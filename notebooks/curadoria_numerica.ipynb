{
 "cells": [
  {
   "cell_type": "code",
   "execution_count": null,
   "id": "39606d0d",
   "metadata": {},
   "outputs": [
    {
     "data": {
      "application/vnd.jupyter.widget-view+json": {
       "model_id": "7bdc926ac01a4652ac530f3c51357100",
       "version_major": 2,
       "version_minor": 0
      },
      "text/plain": [
       "VBox(children=(Dropdown(description='Projeto:', options=('FDL',), value='FDL'), Button(button_style='primary',…"
      ]
     },
     "metadata": {},
     "output_type": "display_data"
    }
   ],
   "source": [
    "# ===============================================\n",
    "# 🧠 Curadoria Leve de Dados Numéricos – Etapa 1\n",
    "# Seleciona projeto e lista arquivos válidos no bucket storage-unique\n",
    "# ===============================================\n",
    "\n",
    "import os\n",
    "from minio import Minio\n",
    "import ipywidgets as widgets\n",
    "from IPython.display import display, clear_output\n",
    "from pathlib import Path\n",
    "\n",
    "# Conectar ao MinIO\n",
    "minio_client = Minio(\n",
    "    \"minio:9000\",\n",
    "    access_key=\"admin\",\n",
    "    secret_key=\"senhasegura\",\n",
    "    secure=False\n",
    ")\n",
    "\n",
    "bucket_origem = \"storage-unique\"\n",
    "extensoes_validas = [\".csv\", \".xlsx\", \".xls\", \".parquet\"]\n",
    "\n",
    "# --- Widget de seleção de projeto (prefix)\n",
    "# Aqui simulamos prefixos válidos via os diretórios do MinIO\n",
    "objetos = list(minio_client.list_objects(bucket_origem, recursive=True))\n",
    "prefixos_disponiveis = sorted(set(obj.object_name.split(\"/\")[0] for obj in objetos if \"/\" in obj.object_name))\n",
    "\n",
    "prefix_dropdown = widgets.Dropdown(options=prefixos_disponiveis, description=\"Projeto:\")\n",
    "run_button = widgets.Button(description=\"🔍 Buscar Arquivos\", button_style=\"primary\")\n",
    "output = widgets.Output()\n",
    "\n",
    "def listar_arquivos(btn):\n",
    "    with output:\n",
    "        clear_output()\n",
    "        prefix = prefix_dropdown.value\n",
    "        print(f\"🔎 Listando arquivos com prefixo '{prefix}' no bucket '{bucket_origem}'...\")\n",
    "        arquivos_validos = [\n",
    "            obj.object_name for obj in objetos\n",
    "            if obj.object_name.startswith(prefix + \"/\") and any(obj.object_name.endswith(ext) for ext in extensoes_validas)\n",
    "        ]\n",
    "        \n",
    "        if not arquivos_validos:\n",
    "            print(\"⚠️ Nenhum arquivo numérico válido encontrado para esse projeto.\")\n",
    "        else:\n",
    "            print(f\"✅ {len(arquivos_validos)} arquivos encontrados:\")\n",
    "            for arq in arquivos_validos:\n",
    "                print(f\"• {arq}\")\n",
    "\n",
    "run_button.on_click(listar_arquivos)\n",
    "\n",
    "display(widgets.VBox([prefix_dropdown, run_button, output]))\n"
   ]
  },
  {
   "cell_type": "code",
   "execution_count": null,
   "id": "ab57c1a9",
   "metadata": {},
   "outputs": [],
   "source": []
  }
 ],
 "metadata": {
  "kernelspec": {
   "display_name": "base",
   "language": "python",
   "name": "python3"
  },
  "language_info": {
   "codemirror_mode": {
    "name": "ipython",
    "version": 3
   },
   "file_extension": ".py",
   "mimetype": "text/x-python",
   "name": "python",
   "nbconvert_exporter": "python",
   "pygments_lexer": "ipython3",
   "version": "3.10.11"
  }
 },
 "nbformat": 4,
 "nbformat_minor": 5
}
