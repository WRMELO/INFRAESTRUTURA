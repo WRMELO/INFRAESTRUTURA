{
 "cells": [
  {
   "cell_type": "code",
   "execution_count": 1,
   "id": "b291bf75",
   "metadata": {},
   "outputs": [
    {
     "name": "stdout",
     "output_type": "stream",
     "text": [
      "Diretório temporário criado: /tmp/projeto_mba_9mm2erb4\n",
      "Arquivos copiados para /tmp/projeto_mba_9mm2erb4\n",
      "Uploaded: projeto-mba/Cópia de RE_ DADOS DE QUALIDADE DE MATÉRIA PRIMA1.zip\n",
      "Uploaded: projeto-mba/Cópia de Cópia de Dados WIlson início 2023 1(in).csv\n",
      "Uploaded: projeto-mba/Cópia de Dados Wilson início 2024 1(in).csv\n",
      "Uploaded: projeto-mba/Realizando análise do repositório.pdf\n",
      "Uploaded: projeto-mba/Política de Curadoria de Dados.pdf\n",
      "Uploaded: projeto-mba/Status em 160425_15h53min.docx\n",
      "Uploaded: projeto-mba/Cópia de Dados WIlson início 2023 1(in).csv\n",
      "Uploaded: projeto-mba/Política de Curadoria de Dados.docx\n",
      "Uploaded: projeto-mba/Cópia de Dados Wilson metade final 2024 1(in).csv\n",
      "Uploaded: projeto-mba/unnamed.png\n",
      "Uploaded: projeto-mba/CONTEXTOS E DOCUMENTOS DE INFORMAÇÃO PARA LLM/Resumo do Ambiente Operacional e Objetivos para o Próximo Chat.pdf\n",
      "Uploaded: projeto-mba/CONTEXTOS E DOCUMENTOS DE INFORMAÇÃO PARA LLM/INVENTÁRIO DO QUE FOI FEITO EM 12_04.docx\n",
      "Uploaded: projeto-mba/CONTEXTOS E DOCUMENTOS DE INFORMAÇÃO PARA LLM/Resumo do Ambiente Operacional e Objetivos para o Próximo Chat.docx\n"
     ]
    },
    {
     "data": {
      "text/plain": [
       "'\\n**Conclusão**: O conteúdo de \"PROJETO MBA\" foi enviado ao MinIO em `raw-data/projeto-mba`, pronto para ingestão.\\n'"
      ]
     },
     "execution_count": 1,
     "metadata": {},
     "output_type": "execute_result"
    }
   ],
   "source": [
    "# 01_CAPTURE_DRIVE.ipynb\n",
    "# %% [markdown]\n",
    "\"\"\"\n",
    "# 01_CAPTURE_DRIVE: Captura de \"Projeto MBA\" e Upload ao MinIO\n",
    "\n",
    "Sincroniza todo o conteúdo da pasta \"PROJETO MBA\" (remote `gdrive:` configurado com root_folder_id)\n",
    "para um diretório temporário, e envia cada arquivo ao bucket `raw-data/projeto-mba/` no MinIO.\n",
    "\"\"\"\n",
    "# %% [code]\n",
    "import os\n",
    "import tempfile\n",
    "import subprocess\n",
    "from minio import Minio\n",
    "\n",
    "# %% [code]\n",
    "# 1) Preparar diretório temporário\n",
    "tmp_dir = tempfile.mkdtemp(prefix=\"projeto_mba_\")\n",
    "print(f\"Diretório temporário criado: {tmp_dir}\")\n",
    "\n",
    "# %% [code]\n",
    "# 2) Sincronizar do remote gdrive: para local\n",
    "e = subprocess.run([\n",
    "    'rclone', 'copy', 'gdrive:', tmp_dir,\n",
    "    '--create-empty-src-dirs'\n",
    "], capture_output=True, text=True)\n",
    "if e.returncode != 0:\n",
    "    print(\"Erro ao copiar do Drive:\")\n",
    "    print(e.stderr)\n",
    "else:\n",
    "    print(\"Arquivos copiados para\", tmp_dir)\n",
    "\n",
    "# %% [code]\n",
    "# 3) Configurar MinIO\n",
    "minio_client = Minio(\n",
    "    \"minio:9000\",\n",
    "    access_key=os.getenv(\"MINIO_ROOT_USER\", \"admin\"),\n",
    "    secret_key=os.getenv(\"MINIO_ROOT_PASSWORD\", \"senhasegura\"),\n",
    "    secure=False\n",
    ")\n",
    "if not minio_client.bucket_exists('raw-data'):\n",
    "    minio_client.make_bucket('raw-data')\n",
    "    print(\"Bucket raw-data criado.\")\n",
    "\n",
    "# %% [code]\n",
    "# 4) Upload de cada arquivo ao bucket raw-data/projeto-mba/\n",
    "for root, dirs, files in os.walk(tmp_dir):\n",
    "    for file in files:\n",
    "        full = os.path.join(root, file)\n",
    "        rel = os.path.relpath(full, tmp_dir)\n",
    "        obj = f\"projeto-mba/{rel}\"\n",
    "        minio_client.fput_object('raw-data', obj, full)\n",
    "        print(f\"Uploaded: {obj}\")\n",
    "\n",
    "# %% [markdown]\n",
    "\"\"\"\n",
    "**Conclusão**: O conteúdo de \"PROJETO MBA\" foi enviado ao MinIO em `raw-data/projeto-mba`, pronto para ingestão.\n",
    "\"\"\"\n"
   ]
  }
 ],
 "metadata": {
  "kernelspec": {
   "display_name": "base",
   "language": "python",
   "name": "python3"
  },
  "language_info": {
   "codemirror_mode": {
    "name": "ipython",
    "version": 3
   },
   "file_extension": ".py",
   "mimetype": "text/x-python",
   "name": "python",
   "nbconvert_exporter": "python",
   "pygments_lexer": "ipython3",
   "version": "3.10.11"
  }
 },
 "nbformat": 4,
 "nbformat_minor": 5
}
