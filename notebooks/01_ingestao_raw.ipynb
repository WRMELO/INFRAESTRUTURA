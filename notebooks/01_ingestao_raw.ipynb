{
 "cells": [
  {
   "cell_type": "markdown",
   "id": "b18a23fb",
   "metadata": {},
   "source": [
    "# 01 – Ingestão de Dados Brutos (RAW)\n",
    "\n",
    "Este notebook executa o script de ingestão de dados brutos (`ingest_raw.py`), que:\n",
    "\n",
    "1. Lista objetos no bucket `raw-data` do MinIO.  \n",
    "2. Faz download de cada arquivo para `/tmp`.  \n",
    "3. Calcula o checksum SHA-256.  \n",
    "4. Registra metadados em `raw.data_files` (PostgreSQL).  \n",
    "\n",
    "Execute a próxima célula para rodar a ingestão.\n"
   ]
  },
  {
   "cell_type": "code",
   "execution_count": 1,
   "id": "3a9b7cb9",
   "metadata": {},
   "outputs": [
    {
     "name": "stdout",
     "output_type": "stream",
     "text": [
      "Iniciando ingestão RAW...\n",
      "\n",
      "✓ teste_eda.txt (checksum: 0e7e2d83…)\n",
      "\n",
      "Ingestão concluída com 0 erro(s).\n",
      "\n"
     ]
    }
   ],
   "source": [
    "%run /home/jovyan/work/eda/raw/ingest_raw.py"
   ]
  }
 ],
 "metadata": {
  "kernelspec": {
   "display_name": "base",
   "language": "python",
   "name": "python3"
  },
  "language_info": {
   "codemirror_mode": {
    "name": "ipython",
    "version": 3
   },
   "file_extension": ".py",
   "mimetype": "text/x-python",
   "name": "python",
   "nbconvert_exporter": "python",
   "pygments_lexer": "ipython3",
   "version": "3.10.11"
  }
 },
 "nbformat": 4,
 "nbformat_minor": 5
}
