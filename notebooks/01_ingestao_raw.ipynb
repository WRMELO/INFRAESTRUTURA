{
 "cells": [
  {
   "cell_type": "markdown",
   "id": "b18a23fb",
   "metadata": {},
   "source": [
    "# 01 – Ingestão de Dados Brutos (RAW)\n",
    "\n",
    "Este notebook executa o script de ingestão de dados brutos (`ingest_raw.py`), que:\n",
    "\n",
    "1. Lista objetos no bucket `raw-data` do MinIO.  \n",
    "2. Faz download de cada arquivo para `/tmp`.  \n",
    "3. Calcula o checksum SHA-256.  \n",
    "4. Registra metadados em `raw.data_files` (PostgreSQL).  \n",
    "\n",
    "Execute a próxima célula para rodar a ingestão.\n"
   ]
  },
  {
   "cell_type": "code",
   "execution_count": 3,
   "id": "3a9b7cb9",
   "metadata": {},
   "outputs": [
    {
     "name": "stdout",
     "output_type": "stream",
     "text": [
      "Iniciando ingestão RAW...\n",
      "\n",
      "✓ projeto-mba/CONTEXTOS E DOCUMENTOS DE INFORMAÇÃO PARA LLM/INVENTÁRIO DO QUE FOI FEITO EM 12_04.docx (checksum: c1f80f1d…)\n",
      "✓ projeto-mba/CONTEXTOS E DOCUMENTOS DE INFORMAÇÃO PARA LLM/Resumo do Ambiente Operacional e Objetivos para o Próximo Chat.docx (checksum: caed745a…)\n",
      "✓ projeto-mba/CONTEXTOS E DOCUMENTOS DE INFORMAÇÃO PARA LLM/Resumo do Ambiente Operacional e Objetivos para o Próximo Chat.pdf (checksum: e3e7960e…)\n",
      "✓ projeto-mba/Política de Curadoria de Dados.docx (checksum: 83fed254…)\n",
      "✓ projeto-mba/Política de Curadoria de Dados.pdf (checksum: 7a50884c…)\n",
      "✓ projeto-mba/Realizando análise do repositório.pdf (checksum: 2bf2ce0f…)\n",
      "✓ projeto-mba/Status em 160425_15h53min.docx (checksum: 6b9188b0…)\n",
      "✓ projeto-mba/novo.txt (checksum: 06394af2…)\n",
      "✓ projeto-mba/unnamed.png (checksum: aff2b07f…)\n",
      "\n",
      "Ingestão concluída com 0 erro(s).\n",
      "\n"
     ]
    }
   ],
   "source": [
    "%run /home/jovyan/work/eda/raw/ingest_raw.py"
   ]
  }
 ],
 "metadata": {
  "kernelspec": {
   "display_name": "base",
   "language": "python",
   "name": "python3"
  },
  "language_info": {
   "codemirror_mode": {
    "name": "ipython",
    "version": 3
   },
   "file_extension": ".py",
   "mimetype": "text/x-python",
   "name": "python",
   "nbconvert_exporter": "python",
   "pygments_lexer": "ipython3",
   "version": "3.10.11"
  }
 },
 "nbformat": 4,
 "nbformat_minor": 5
}
