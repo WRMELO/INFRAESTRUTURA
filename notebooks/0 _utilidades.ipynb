{
 "cells": [
  {
   "cell_type": "code",
   "execution_count": null,
   "id": "44587da8",
   "metadata": {},
   "outputs": [
    {
     "name": "stdout",
     "output_type": "stream",
     "text": [
      "--- Copiar Arquivos no Google Drive ---\n",
      "--- Copiar Arquivos no Google Drive ---\n",
      "Origem: gdrive:1THttiv0Q0ONduDNQhCnvlS8geqVD3FRs\n",
      "Destino: gdrive:1Mj1MifracuE5jQEeiMJsjr0TNLct5xx-\n",
      "Iniciando cópia...\n",
      "✗ Erro na cópia (code 3):\n",
      "2025/04/29 12:48:06 ERROR : : error reading source directory: directory not found\n",
      "2025/04/29 12:48:06 ERROR : Attempt 1/3 failed with 1 errors and: directory not found\n",
      "2025/04/29 12:48:06 ERROR : : error reading source directory: directory not found\n",
      "2025/04/29 12:48:06 ERROR : Attempt 2/3 failed with 1 errors and: directory not found\n",
      "2025/04/29 12:48:06 ERROR : : error reading source directory: directory not found\n",
      "2025/04/29 12:48:06 ERROR : Attempt 3/3 failed with 1 errors and: directory not found\n",
      "2025/04/29 12:48:06 Failed to copy: directory not found\n",
      "\n",
      "\n",
      "Conteúdo da pasta de destino:\n"
     ]
    },
    {
     "name": "stderr",
     "output_type": "stream",
     "text": [
      "2025/04/29 12:48:07 Failed to ls: directory not found\n"
     ]
    },
    {
     "data": {
      "text/plain": [
       "CompletedProcess(args=['rclone', 'ls', 'gdrive:1Mj1MifracuE5jQEeiMJsjr0TNLct5xx-'], returncode=3)"
      ]
     },
     "execution_count": 1,
     "metadata": {},
     "output_type": "execute_result"
    }
   ],
   "source": [
    "# 000.UTILIDADES.ipynb\n",
    "# %% [markdown]\n",
    "\"\"\"\n",
    "# 000.UTILIDADES: Copiar Arquivos entre Pastas no Google Drive\n",
    "\n",
    "Este notebook permite copiar todo o conteúdo de uma pasta de origem para uma pasta de destino\n",
    "direto no Google Drive, usando o rclone. Basta fornecer os IDs das pastas.\n",
    "\"\"\"\n",
    "# %% [code]\n",
    "import subprocess\n",
    "\n",
    "# %% [code]\n",
    "# Cabeçalho\n",
    "print(\"--- Copiar Arquivos no Google Drive ---\")\n",
    "\n",
    "# %% [code]\n",
    "# Ler os IDs das pastas do usuário\n",
    "title = \"--- Copiar Arquivos no Google Drive ---\"\n",
    "print(title)\n",
    "origin_id = input(\"ID_DA_PASTA_ORIGEM: \").strip()\n",
    "dest_id   = input(\"ID_DA_PASTA_DESTINO: \").strip()\n",
    "\n",
    "# %% [code]\n",
    "# Construir os caminhos remotos\n",
    "origin_path = f\"gdrive-all:{origin_id}\"\n",
    "dest_path   = f\"gdrive:{dest_id}\"\n",
    "print(f\"Origem: {origin_path}\")\n",
    "print(f\"Destino: {dest_path}\")\n",
    "\n",
    "# %% [code]\n",
    "# Executar a cópia via rclone\n",
    "print(\"Iniciando cópia...\")\n",
    "result = subprocess.run(\n",
    "    [\n",
    "        \"rclone\", \"copy\", origin_path, dest_path,\n",
    "        \"--create-empty-src-dirs\"\n",
    "    ],\n",
    "    capture_output=True,\n",
    "    text=True\n",
    ")\n",
    "if result.returncode == 0:\n",
    "    print(\"✓ Copia realizada com sucesso!\")\n",
    "else:\n",
    "    print(f\"✗ Erro na cópia (code {result.returncode}):\")\n",
    "    print(result.stderr)\n",
    "\n",
    "# %% [code]\n",
    "# Listar conteúdo da pasta de destino para verificação\n",
    "print(\"\\nConteúdo da pasta de destino:\")\n",
    "subprocess.run([\"rclone\", \"ls\", dest_path])\n",
    "\n"
   ]
  }
 ],
 "metadata": {
  "kernelspec": {
   "display_name": "base",
   "language": "python",
   "name": "python3"
  },
  "language_info": {
   "codemirror_mode": {
    "name": "ipython",
    "version": 3
   },
   "file_extension": ".py",
   "mimetype": "text/x-python",
   "name": "python",
   "nbconvert_exporter": "python",
   "pygments_lexer": "ipython3",
   "version": "3.10.11"
  }
 },
 "nbformat": 4,
 "nbformat_minor": 5
}
