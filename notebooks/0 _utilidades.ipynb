{
 "cells": [
  {
   "cell_type": "code",
   "execution_count": 1,
   "id": "3c8b6fa8",
   "metadata": {},
   "outputs": [
    {
     "name": "stdout",
     "output_type": "stream",
     "text": [
      "--- Copier Pastas Google Drive ---\n",
      "Arquivo de config temporário gerado: /tmp/tmp5rqc2k77.conf\n",
      "Executando: rclone --config /tmp/tmp5rqc2k77.conf copy src: dst: --drive-server-side-across-configs --create-empty-src-dirs\n",
      "✓ Copia concluída com sucesso!\n",
      "\n",
      "Conteúdo da pasta de destino:\n",
      "   162375 Realizando análise do repositório.pdf\n",
      "    28549 Status em 160425_15h53min.docx\n",
      "   211879 Política de Curadoria de Dados.pdf\n",
      "   350180 Política de Curadoria de Dados.docx\n",
      "    57936 unnamed.png\n",
      "    29721 CONTEXTOS E DOCUMENTOS DE INFORMAÇÃO PARA LLM/INVENTÁRIO DO QUE FOI FEITO EM 12_04.docx\n",
      "   139654 CONTEXTOS E DOCUMENTOS DE INFORMAÇÃO PARA LLM/Resumo do Ambiente Operacional e Objetivos para o Próximo Chat.pdf\n",
      "    28743 CONTEXTOS E DOCUMENTOS DE INFORMAÇÃO PARA LLM/Resumo do Ambiente Operacional e Objetivos para o Próximo Chat.docx\n"
     ]
    },
    {
     "data": {
      "text/plain": [
       "CompletedProcess(args=['rclone', '--config', '/tmp/tmp5rqc2k77.conf', 'ls', 'dst:'], returncode=0)"
      ]
     },
     "execution_count": 1,
     "metadata": {},
     "output_type": "execute_result"
    }
   ],
   "source": [
    "# 000_UTILIDADES.ipynb\n",
    "# %% [markdown]\n",
    "\"\"\"\n",
    "# 000.UTILIDADES: Copiar Pastas no Google Drive por ID\n",
    "\n",
    "Este notebook copia diretamente, no servidor do Google Drive, todo o conteúdo de uma pasta de origem\n",
    "enquanto preserva subdiretórios, para uma pasta de destino, usando remotes temporários do Rclone e\n",
    "o flag --drive-server-side-across-configs.\n",
    "\"\"\"\n",
    "# %% [code]\n",
    "import os\n",
    "import subprocess\n",
    "import tempfile\n",
    "from configparser import ConfigParser\n",
    "\n",
    "# %% [code]\n",
    "# 1) Solicitar IDs ao usuário\n",
    "drive = os.path.expanduser(\"~/.config/rclone/rclone.conf\")\n",
    "print(\"--- Copier Pastas Google Drive ---\")\n",
    "origin_id = input(\"ID_DA_PASTA_ORIGEM (ex: 1THttiv0Q0ONduDNQhCnvlS8geqVD3FRs): \").strip()\n",
    "dest_id   = input(\"ID_DA_PASTA_DESTINO (ex: 1Mj1MifracuE5jQEeiMJsjr0TNLct5xx-): \").strip()\n",
    "\n",
    "# %% [code]\n",
    "# 2) Carregar config existente e preparar remotes temporários\n",
    "cfg = ConfigParser()\n",
    "cfg.read(drive)\n",
    "base = cfg.get('gdrive', 'type') and cfg['gdrive']  # base config\n",
    "# src remote\n",
    "cfg['src'] = dict(cfg['gdrive'])\n",
    "cfg['src']['root_folder_id'] = origin_id\n",
    "# dst remote\n",
    "cfg['dst'] = dict(cfg['gdrive'])\n",
    "cfg['dst']['root_folder_id'] = dest_id\n",
    "\n",
    "# 3) Gravar config temporário\n",
    "tmp_conf = tempfile.NamedTemporaryFile(delete=False, suffix=\".conf\").name\n",
    "with open(tmp_conf, 'w') as f:\n",
    "    cfg.write(f)\n",
    "print(f\"Arquivo de config temporário gerado: {tmp_conf}\")\n",
    "\n",
    "# %% [code]\n",
    "# 4) Executar cópia server-side entre src: e dst:\n",
    "cmd = [\n",
    "    'rclone', '--config', tmp_conf,\n",
    "    'copy', 'src:', 'dst:',\n",
    "    '--drive-server-side-across-configs',\n",
    "    '--create-empty-src-dirs'\n",
    "]\n",
    "print(\"Executando:\", ' '.join(cmd))\n",
    "res = subprocess.run(cmd, capture_output=True, text=True)\n",
    "if res.returncode == 0:\n",
    "    print(\"✓ Copia concluída com sucesso!\")\n",
    "else:\n",
    "    print(f\"✗ Erro na cópia (code {res.returncode}):\")\n",
    "    print(res.stderr)\n",
    "\n",
    "# %% [code]\n",
    "# 5) Listar conteúdo da pasta de destino para verificação\n",
    "print(\"\\nConteúdo da pasta de destino:\")\n",
    "subprocess.run(['rclone', '--config', tmp_conf, 'ls', 'dst:'])\n",
    "\n",
    "\n"
   ]
  }
 ],
 "metadata": {
  "kernelspec": {
   "display_name": "base",
   "language": "python",
   "name": "python3"
  },
  "language_info": {
   "codemirror_mode": {
    "name": "ipython",
    "version": 3
   },
   "file_extension": ".py",
   "mimetype": "text/x-python",
   "name": "python",
   "nbconvert_exporter": "python",
   "pygments_lexer": "ipython3",
   "version": "3.10.11"
  }
 },
 "nbformat": 4,
 "nbformat_minor": 5
}
