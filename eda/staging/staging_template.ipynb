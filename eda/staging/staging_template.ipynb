{
 "cells": [
  {
   "cell_type": "code",
   "execution_count": null,
   "id": "ef812d7f",
   "metadata": {
    "tags": [
     "parameters"
    ]
   },
   "outputs": [],
   "source": [
    "project_name = None\n",
    "raw_file_ids = None\n",
    "config_path = None"
   ]
  },
  {
   "cell_type": "code",
   "execution_count": null,
   "id": "3aa921ed",
   "metadata": {},
   "outputs": [],
   "source": [
    "import yaml, pandas as pd\n",
    "from sqlalchemy import create_engine\n",
    "from eda.staging.transforms import *"
   ]
  },
  {
   "cell_type": "code",
   "execution_count": null,
   "id": "860f88d8",
   "metadata": {},
   "outputs": [],
   "source": [
    "# Load config\n",
    "cfg = yaml.safe_load(open(config_path))"
   ]
  },
  {
   "cell_type": "code",
   "execution_count": null,
   "id": "e71f00ce",
   "metadata": {},
   "outputs": [],
   "source": [
    "# TODO: Load raw data from database or filesimport os\n",
    "\n",
    "# 1) Conectar ao banco\n",
    "engine = create_engine(os.getenv(\"DATABASE_URL\"))\n",
    "\n",
    "# 2) Buscar caminhos dos arquivos raw\n",
    "ids = raw_file_ids\n",
    "query = \"\"\"\n",
    "SELECT file_path\n",
    "  FROM raw.data_files\n",
    " WHERE id = ANY(%(ids)s)\n",
    "\"\"\"\n",
    "paths_df = pd.read_sql(query, engine, params={\"ids\": ids})\n",
    "\n",
    "# 3) Carregar cada arquivo em um DataFrame e concatenar\n",
    "df_list = [pd.read_csv(path) for path in paths_df[\"file_path\"]]\n",
    "df = pd.concat(df_list, ignore_index=True)\n",
    "\n",
    "# TODO: Apply transforms based on cfg"
   ]
  },
  {
   "cell_type": "code",
   "execution_count": null,
   "id": "33aff383",
   "metadata": {},
   "outputs": [],
   "source": [
    "# TODO: Write processed data to staging.processed_data\n",
    "# TODO: Insert audit record into meta.audit_log"
   ]
  }
 ],
 "metadata": {
  "language_info": {
   "name": "python"
  }
 },
 "nbformat": 4,
 "nbformat_minor": 5
}
