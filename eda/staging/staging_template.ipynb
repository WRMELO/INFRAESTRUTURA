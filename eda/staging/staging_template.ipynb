{
 "cells": [
  {
   "cell_type": "markdown",
   "id": "d3c173a1",
   "metadata": {},
   "source": [
    "**Notebook Template (`staging_template.ipynb`)\n",
    "\n",
    "```json\n",
    "{\n",
    " \"cells\": [\n",
    "  {\n",
    "   \"cell_type\": \"code\",\n",
    "   \"metadata\": {\"tags\":[\"parameters\"]},\n",
    "   \"source\": [\n",
    "    \"project_name = None\",\n",
    "    \"raw_file_ids = None\",\n",
    "    \"config_path = None\"\n",
    "   ]\n",
    "  },\n",
    "  {\n",
    "   \"cell_type\": \"code\",\n",
    "   \"metadata\": {},\n",
    "   \"source\": [\n",
    "    \"import yaml, pandas as pd\",\n",
    "    \"from sqlalchemy import create_engine\",\n",
    "    \"from eda.staging.transforms import *\"\n",
    "   ]\n",
    "  },\n",
    "  {\n",
    "   \"cell_type\": \"code\",\n",
    "   \"metadata\": {},\n",
    "   \"source\": [\n",
    "    \"# Load config\",\n",
    "    \"cfg = yaml.safe_load(open(config_path))\"\n",
    "   ]\n",
    "  },\n",
    "  {\n",
    "   \"cell_type\": \"code\",\n",
    "   \"metadata\": {},\n",
    "   \"source\": [\n",
    "    \"# TODO: Load raw data from database or files\",\n",
    "    \"# TODO: Apply transforms based on cfg\"\n",
    "   ]\n",
    "  },\n",
    "  {\n",
    "   \"cell_type\": \"code\",\n",
    "   \"metadata\": {},\n",
    "   \"source\": [\n",
    "    \"# TODO: Write processed data to staging.processed_data\",\n",
    "    \"# TODO: Insert audit record into meta.audit_log\"\n",
    "   ]\n",
    "  }\n",
    " ],\n",
    " \"metadata\": {\n",
    "  \"kernelspec\": {\"name\":\"python3\",\"display_name\":\"Python 3\"},\n",
    "  \"language_info\": {\"name\":\"python\"}\n",
    " },\n",
    " \"nbformat\": 4,\n",
    " \"nbformat_minor\": 2\n",
    "}\n",
    "```\n",
    "\n"
   ]
  }
 ],
 "metadata": {
  "kernelspec": {
   "display_name": "Python 3 (ipykernel)",
   "language": "python",
   "name": "python3"
  },
  "language_info": {
   "codemirror_mode": {
    "name": "ipython",
    "version": 3
   },
   "file_extension": ".py",
   "mimetype": "text/x-python",
   "name": "python",
   "nbconvert_exporter": "python",
   "pygments_lexer": "ipython3",
   "version": "3.10.11"
  }
 },
 "nbformat": 4,
 "nbformat_minor": 5
}
