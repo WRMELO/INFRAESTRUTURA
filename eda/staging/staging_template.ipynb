{
 "cells": [
  {
   "cell_type": "code",
   "execution_count": null,
   "id": "ef812d7f",
   "metadata": {
    "tags": [
     "parameters"
    ]
   },
   "outputs": [],
   "source": [
    "project_name = None\n",
    "raw_file_ids = None\n",
    "config_path = None"
   ]
  },
  {
   "cell_type": "code",
   "execution_count": null,
   "id": "3aa921ed",
   "metadata": {},
   "outputs": [],
   "source": [
    "import yaml, pandas as pd\n",
    "from sqlalchemy import create_engine\n",
    "from eda.staging.transforms import *"
   ]
  },
  {
   "cell_type": "code",
   "execution_count": null,
   "id": "860f88d8",
   "metadata": {},
   "outputs": [],
   "source": [
    "# Load config\n",
    "cfg = yaml.safe_load(open(config_path))"
   ]
  },
  {
   "cell_type": "code",
   "execution_count": null,
   "id": "e71f00ce",
   "metadata": {},
   "outputs": [],
   "source": [
    "# TODO: Load raw data from database or files\n",
    "# TODO: Apply transforms based on cfg"
   ]
  },
  {
   "cell_type": "code",
   "execution_count": null,
   "id": "33aff383",
   "metadata": {},
   "outputs": [],
   "source": [
    "# TODO: Write processed data to staging.processed_data\n",
    "# TODO: Insert audit record into meta.audit_log"
   ]
  }
 ],
 "metadata": {},
 "nbformat": 4,
 "nbformat_minor": 5
}
